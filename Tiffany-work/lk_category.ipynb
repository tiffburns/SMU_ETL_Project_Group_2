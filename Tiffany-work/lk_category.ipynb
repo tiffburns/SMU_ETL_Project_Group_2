{
 "cells": [
  {
   "cell_type": "code",
   "execution_count": 1,
   "metadata": {},
   "outputs": [],
   "source": [
    "# import dependences \n",
    "\n",
    "import pandas as pd\n",
    "from sqlalchemy import create_engine, inspect\n",
    "import numpy as np\n",
    "import datetime"
   ]
  },
  {
   "cell_type": "code",
   "execution_count": 2,
   "metadata": {},
   "outputs": [
    {
     "data": {
      "text/html": [
       "<div>\n",
       "<style scoped>\n",
       "    .dataframe tbody tr th:only-of-type {\n",
       "        vertical-align: middle;\n",
       "    }\n",
       "\n",
       "    .dataframe tbody tr th {\n",
       "        vertical-align: top;\n",
       "    }\n",
       "\n",
       "    .dataframe thead th {\n",
       "        text-align: right;\n",
       "    }\n",
       "</style>\n",
       "<table border=\"1\" class=\"dataframe\">\n",
       "  <thead>\n",
       "    <tr style=\"text-align: right;\">\n",
       "      <th></th>\n",
       "      <th>product_name</th>\n",
       "      <th>category_name</th>\n",
       "      <th>store_name</th>\n",
       "      <th>store_url</th>\n",
       "      <th>url</th>\n",
       "    </tr>\n",
       "  </thead>\n",
       "  <tbody>\n",
       "    <tr>\n",
       "      <th>0</th>\n",
       "      <td>Wilson Roger Federer Junior Tennis Racquet</td>\n",
       "      <td>Racquets</td>\n",
       "      <td>Walmart</td>\n",
       "      <td>https://www.walmart.com</td>\n",
       "      <td>https://www.walmart.com/ip/Wilson-Rodger-Feder...</td>\n",
       "    </tr>\n",
       "    <tr>\n",
       "      <th>1</th>\n",
       "      <td>Wilson Blade Team Tennis Racquet</td>\n",
       "      <td>Racquets</td>\n",
       "      <td>Walmart</td>\n",
       "      <td>https://www.walmart.com</td>\n",
       "      <td>https://www.walmart.com/ip/Wilson-WRT73861U3-B...</td>\n",
       "    </tr>\n",
       "    <tr>\n",
       "      <th>2</th>\n",
       "      <td>Wilson Burn 100ULS Tennis Racquet</td>\n",
       "      <td>Racquets</td>\n",
       "      <td>Walmart</td>\n",
       "      <td>https://www.walmart.com</td>\n",
       "      <td>https://www.walmart.com/ip/Wilson-Burn-100ULS-...</td>\n",
       "    </tr>\n",
       "    <tr>\n",
       "      <th>3</th>\n",
       "      <td>Wilson Championship Extra-Duty Tennis Balls</td>\n",
       "      <td>Balls</td>\n",
       "      <td>Walmart</td>\n",
       "      <td>https://www.walmart.com</td>\n",
       "      <td>https://www.walmart.com/ip/Wilson-006449-Wilso...</td>\n",
       "    </tr>\n",
       "    <tr>\n",
       "      <th>4</th>\n",
       "      <td>Wilson Team One Tennis Bag</td>\n",
       "      <td>Bags</td>\n",
       "      <td>Walmart</td>\n",
       "      <td>https://www.walmart.com</td>\n",
       "      <td>https://www.walmart.com/ip/Wilson-Team-Tennis-...</td>\n",
       "    </tr>\n",
       "  </tbody>\n",
       "</table>\n",
       "</div>"
      ],
      "text/plain": [
       "                                  product_name category_name store_name  \\\n",
       "0   Wilson Roger Federer Junior Tennis Racquet      Racquets    Walmart   \n",
       "1             Wilson Blade Team Tennis Racquet      Racquets    Walmart   \n",
       "2            Wilson Burn 100ULS Tennis Racquet      Racquets    Walmart   \n",
       "3  Wilson Championship Extra-Duty Tennis Balls         Balls    Walmart   \n",
       "4                   Wilson Team One Tennis Bag          Bags    Walmart   \n",
       "\n",
       "                 store_url                                                url  \n",
       "0  https://www.walmart.com  https://www.walmart.com/ip/Wilson-Rodger-Feder...  \n",
       "1  https://www.walmart.com  https://www.walmart.com/ip/Wilson-WRT73861U3-B...  \n",
       "2  https://www.walmart.com  https://www.walmart.com/ip/Wilson-Burn-100ULS-...  \n",
       "3  https://www.walmart.com  https://www.walmart.com/ip/Wilson-006449-Wilso...  \n",
       "4  https://www.walmart.com  https://www.walmart.com/ip/Wilson-Team-Tennis-...  "
      ]
     },
     "execution_count": 2,
     "metadata": {},
     "output_type": "execute_result"
    }
   ],
   "source": [
    "#read in csv\n",
    "\n",
    "csv_file = \"Resources/url_sheet.csv\"\n",
    "category_df = pd.read_csv(csv_file)\n",
    "category_df.head()"
   ]
  },
  {
   "cell_type": "code",
   "execution_count": 3,
   "metadata": {},
   "outputs": [
    {
     "data": {
      "text/html": [
       "<div>\n",
       "<style scoped>\n",
       "    .dataframe tbody tr th:only-of-type {\n",
       "        vertical-align: middle;\n",
       "    }\n",
       "\n",
       "    .dataframe tbody tr th {\n",
       "        vertical-align: top;\n",
       "    }\n",
       "\n",
       "    .dataframe thead th {\n",
       "        text-align: right;\n",
       "    }\n",
       "</style>\n",
       "<table border=\"1\" class=\"dataframe\">\n",
       "  <thead>\n",
       "    <tr style=\"text-align: right;\">\n",
       "      <th></th>\n",
       "      <th>product_name</th>\n",
       "      <th>store_name</th>\n",
       "      <th>store_url</th>\n",
       "      <th>url</th>\n",
       "    </tr>\n",
       "    <tr>\n",
       "      <th>category_name</th>\n",
       "      <th></th>\n",
       "      <th></th>\n",
       "      <th></th>\n",
       "      <th></th>\n",
       "    </tr>\n",
       "  </thead>\n",
       "  <tbody>\n",
       "    <tr>\n",
       "      <th>Accessories</th>\n",
       "      <td>8</td>\n",
       "      <td>8</td>\n",
       "      <td>8</td>\n",
       "      <td>8</td>\n",
       "    </tr>\n",
       "    <tr>\n",
       "      <th>Bags</th>\n",
       "      <td>4</td>\n",
       "      <td>4</td>\n",
       "      <td>4</td>\n",
       "      <td>4</td>\n",
       "    </tr>\n",
       "    <tr>\n",
       "      <th>Balls</th>\n",
       "      <td>4</td>\n",
       "      <td>4</td>\n",
       "      <td>4</td>\n",
       "      <td>4</td>\n",
       "    </tr>\n",
       "    <tr>\n",
       "      <th>Racquets</th>\n",
       "      <td>12</td>\n",
       "      <td>12</td>\n",
       "      <td>12</td>\n",
       "      <td>12</td>\n",
       "    </tr>\n",
       "    <tr>\n",
       "      <th>Shoes</th>\n",
       "      <td>4</td>\n",
       "      <td>4</td>\n",
       "      <td>4</td>\n",
       "      <td>4</td>\n",
       "    </tr>\n",
       "  </tbody>\n",
       "</table>\n",
       "</div>"
      ],
      "text/plain": [
       "               product_name  store_name  store_url  url\n",
       "category_name                                          \n",
       "Accessories               8           8          8    8\n",
       "Bags                      4           4          4    4\n",
       "Balls                     4           4          4    4\n",
       "Racquets                 12          12         12   12\n",
       "Shoes                     4           4          4    4"
      ]
     },
     "execution_count": 3,
     "metadata": {},
     "output_type": "execute_result"
    }
   ],
   "source": [
    "category = category_df.groupby(by=\"category_name\").count()\n",
    "category"
   ]
  },
  {
   "cell_type": "code",
   "execution_count": null,
   "metadata": {},
   "outputs": [],
   "source": [
    "SQL_USERNAME =\"postgres\"\n",
    "SQL_PASSWORD =\"password\"\n",
    "SQL_IP =\"34.69.163.116\"\n",
    "PORT = 5432\n",
    "DATABASE =\"postgres\""
   ]
  },
  {
   "cell_type": "code",
   "execution_count": null,
   "metadata": {},
   "outputs": [],
   "source": [
    "connection_string = f\"postgresql+psycopg2://{SQL_USERNAME}:{SQL_PASSWORD}@{SQL_IP}:{PORT}/{DATABASE}\"\n",
    "engine = create_engine(connection_string)"
   ]
  },
  {
   "cell_type": "code",
   "execution_count": null,
   "metadata": {},
   "outputs": [],
   "source": [
    "inspector = inspect(engine)\n",
    "inspector.get_table_names()"
   ]
  },
  {
   "cell_type": "code",
   "execution_count": null,
   "metadata": {},
   "outputs": [],
   "source": [
    "for table in inspector.get_table_names():\n",
    "    print()\n",
    "    print(table)\n",
    "    for column in inspector.get_columns(table):\n",
    "        print(column)"
   ]
  }
 ],
 "metadata": {
  "kernelspec": {
   "display_name": "Python 3",
   "language": "python",
   "name": "python3"
  },
  "language_info": {
   "codemirror_mode": {
    "name": "ipython",
    "version": 3
   },
   "file_extension": ".py",
   "mimetype": "text/x-python",
   "name": "python",
   "nbconvert_exporter": "python",
   "pygments_lexer": "ipython3",
   "version": "3.8.3"
  }
 },
 "nbformat": 4,
 "nbformat_minor": 4
}
