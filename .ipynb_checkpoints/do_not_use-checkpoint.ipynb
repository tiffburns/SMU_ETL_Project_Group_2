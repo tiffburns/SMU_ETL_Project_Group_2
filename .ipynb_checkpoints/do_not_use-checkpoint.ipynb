{
 "cells": [
  {
   "cell_type": "code",
   "execution_count": 1,
   "metadata": {},
   "outputs": [],
   "source": [
    "# import dependences \n",
    "\n",
    "import pandas as pd\n",
    "from sqlalchemy import create_engine, inspect\n",
    "import numpy as np\n",
    "import datetime\n",
    "from bs4 import BeautifulSoup\n",
    "from scipy import stats\n",
    "from requests import get\n"
   ]
  },
  {
   "cell_type": "code",
   "execution_count": 2,
   "metadata": {},
   "outputs": [
    {
     "data": {
      "text/html": [
       "<div>\n",
       "<style scoped>\n",
       "    .dataframe tbody tr th:only-of-type {\n",
       "        vertical-align: middle;\n",
       "    }\n",
       "\n",
       "    .dataframe tbody tr th {\n",
       "        vertical-align: top;\n",
       "    }\n",
       "\n",
       "    .dataframe thead th {\n",
       "        text-align: right;\n",
       "    }\n",
       "</style>\n",
       "<table border=\"1\" class=\"dataframe\">\n",
       "  <thead>\n",
       "    <tr style=\"text-align: right;\">\n",
       "      <th></th>\n",
       "      <th>product_name</th>\n",
       "      <th>store_url</th>\n",
       "    </tr>\n",
       "  </thead>\n",
       "  <tbody>\n",
       "    <tr>\n",
       "      <th>0</th>\n",
       "      <td>Wilson Roger Federer Junior Tennis Racquet</td>\n",
       "      <td>https://www.walmart.com/ip/Wilson-Rodger-Feder...</td>\n",
       "    </tr>\n",
       "    <tr>\n",
       "      <th>1</th>\n",
       "      <td>Wilson Blade Team Tennis Racquet</td>\n",
       "      <td>https://www.walmart.com/ip/Wilson-WRT73861U3-B...</td>\n",
       "    </tr>\n",
       "    <tr>\n",
       "      <th>2</th>\n",
       "      <td>Wilson Burn 100ULS Tennis Racquet</td>\n",
       "      <td>https://www.walmart.com/ip/Wilson-Burn-100ULS-...</td>\n",
       "    </tr>\n",
       "    <tr>\n",
       "      <th>3</th>\n",
       "      <td>Wilson Championship Extra-Duty Tennis Balls</td>\n",
       "      <td>https://www.walmart.com/ip/Wilson-006449-Wilso...</td>\n",
       "    </tr>\n",
       "    <tr>\n",
       "      <th>4</th>\n",
       "      <td>Wilson Team One Tennis Bag</td>\n",
       "      <td>https://www.walmart.com/ip/Wilson-Team-Tennis-...</td>\n",
       "    </tr>\n",
       "  </tbody>\n",
       "</table>\n",
       "</div>"
      ],
      "text/plain": [
       "                                  product_name  \\\n",
       "0   Wilson Roger Federer Junior Tennis Racquet   \n",
       "1             Wilson Blade Team Tennis Racquet   \n",
       "2            Wilson Burn 100ULS Tennis Racquet   \n",
       "3  Wilson Championship Extra-Duty Tennis Balls   \n",
       "4                   Wilson Team One Tennis Bag   \n",
       "\n",
       "                                           store_url  \n",
       "0  https://www.walmart.com/ip/Wilson-Rodger-Feder...  \n",
       "1  https://www.walmart.com/ip/Wilson-WRT73861U3-B...  \n",
       "2  https://www.walmart.com/ip/Wilson-Burn-100ULS-...  \n",
       "3  https://www.walmart.com/ip/Wilson-006449-Wilso...  \n",
       "4  https://www.walmart.com/ip/Wilson-Team-Tennis-...  "
      ]
     },
     "execution_count": 2,
     "metadata": {},
     "output_type": "execute_result"
    }
   ],
   "source": [
    "#read in csv\n",
    "\n",
    "csv_file = \"Resources/url_sheet.csv\"\n",
    "product_csv = pd.read_csv(csv_file)\n",
    "product_csv.head()"
   ]
  },
  {
   "cell_type": "code",
   "execution_count": 3,
   "metadata": {},
   "outputs": [
    {
     "name": "stdout",
     "output_type": "stream",
     "text": [
      "<Response [200]>\n"
     ]
    }
   ],
   "source": [
    "#check each website for scraping permissions (some don't allow for this)\n",
    "\n",
    "#walmart\n",
    "\n",
    "base_url =   \"https://www.walmart.com/ip/Wilson-Rodger-Federer-21-Junior-Tennis-Racquet/100240789\"\n",
    "headers = {'content-type':'text'}\n",
    "\n",
    "response = get(base_url, headers=headers)\n",
    "print(response)"
   ]
  },
  {
   "cell_type": "code",
   "execution_count": 4,
   "metadata": {},
   "outputs": [
    {
     "name": "stdout",
     "output_type": "stream",
     "text": [
      "<Response [200]>\n"
     ]
    }
   ],
   "source": [
    "#wilson\n",
    "\n",
    "base_url2 =   \"https://www.wilson.com/en-us/tennis/shoes/womens/women-s-rush-pro-3-0-159129\"\n",
    "headers2 = {'content-type':'text'}\n",
    "\n",
    "response2 = get(base_url2, headers=headers2)\n",
    "print(response2)"
   ]
  },
  {
   "cell_type": "code",
   "execution_count": 5,
   "metadata": {},
   "outputs": [
    {
     "name": "stdout",
     "output_type": "stream",
     "text": [
      "<Response [200]>\n"
     ]
    }
   ],
   "source": [
    "#academy sports\n",
    "\n",
    "base_url4 =   \"https://www.academy.com/shop/pdp/wilson-blade-team-tennis-racquet#repChildCatid=6779776\"\n",
    "headers4 = {'content-type':'text'}\n",
    "\n",
    "response4 = get(base_url4, headers=headers4)\n",
    "print(response4)"
   ]
  },
  {
   "cell_type": "code",
   "execution_count": null,
   "metadata": {},
   "outputs": [],
   "source": [
    "#dicks sporting goods\n",
    "\n",
    "base_url5 =   'https://www.dickssportinggoods.com/p/wilson-team-one-tennis-bag-19wiluwlsntm1gryxtnn/19wiluwlsntm1gryxtnn'\n",
    "headers5 = {'content-type':'text'}\n",
    "\n",
    "response5 = get(base_url5, headers=headers5)\n",
    "print(response5)"
   ]
  },
  {
   "cell_type": "code",
   "execution_count": null,
   "metadata": {},
   "outputs": [],
   "source": []
  },
  {
   "cell_type": "code",
   "execution_count": null,
   "metadata": {},
   "outputs": [],
   "source": []
  },
  {
   "cell_type": "code",
   "execution_count": null,
   "metadata": {},
   "outputs": [],
   "source": []
  },
  {
   "cell_type": "code",
   "execution_count": null,
   "metadata": {},
   "outputs": [],
   "source": [
    "tennis_df = tennis_data[[\"id\",\"product_name\",\"category_id\",\"store_id\",\"sale_price\",\"list_price\",\"scraped_date\",\"on_sale\",\"url\",\"last_updated\"]]\n",
    "tennis_df.head()"
   ]
  },
  {
   "cell_type": "code",
   "execution_count": null,
   "metadata": {},
   "outputs": [],
   "source": []
  },
  {
   "cell_type": "code",
   "execution_count": null,
   "metadata": {},
   "outputs": [],
   "source": []
  },
  {
   "cell_type": "code",
   "execution_count": null,
   "metadata": {},
   "outputs": [],
   "source": [
    "SQL_USERNAME =\"postgres\"\n",
    "SQL_PASSWORD =\"password\"\n",
    "SQL_IP =\"34.69.163.116\"\n",
    "PORT = 5432\n",
    "DATABASE =\"postgres\""
   ]
  },
  {
   "cell_type": "code",
   "execution_count": null,
   "metadata": {},
   "outputs": [],
   "source": [
    "connection_string = f\"postgresql+psycopg2://{SQL_USERNAME}:{SQL_PASSWORD}@{SQL_IP}:{PORT}/{DATABASE}\"\n",
    "engine = create_engine(connection_string)"
   ]
  },
  {
   "cell_type": "code",
   "execution_count": null,
   "metadata": {},
   "outputs": [],
   "source": [
    "inspector = inspect(engine)\n",
    "inspector.get_table_names()"
   ]
  },
  {
   "cell_type": "code",
   "execution_count": null,
   "metadata": {},
   "outputs": [],
   "source": [
    "for table in inspector.get_table_names():\n",
    "    print()\n",
    "    print(table)\n",
    "    for column in inspector.get_columns(table):\n",
    "        print(column)"
   ]
  },
  {
   "cell_type": "code",
   "execution_count": null,
   "metadata": {},
   "outputs": [],
   "source": []
  },
  {
   "cell_type": "code",
   "execution_count": null,
   "metadata": {},
   "outputs": [],
   "source": []
  }
 ],
 "metadata": {
  "kernelspec": {
   "display_name": "Python 3",
   "language": "python",
   "name": "python3"
  },
  "language_info": {
   "codemirror_mode": {
    "name": "ipython",
    "version": 3
   },
   "file_extension": ".py",
   "mimetype": "text/x-python",
   "name": "python",
   "nbconvert_exporter": "python",
   "pygments_lexer": "ipython3",
   "version": "3.8.3"
  }
 },
 "nbformat": 4,
 "nbformat_minor": 4
}
