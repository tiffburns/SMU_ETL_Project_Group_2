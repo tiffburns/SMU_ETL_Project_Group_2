{
 "cells": [
  {
   "cell_type": "code",
   "execution_count": 16,
   "metadata": {},
   "outputs": [],
   "source": [
    "# import dependences \n",
    "\n",
    "from bs4 import BeautifulSoup\n",
    "from requests import get\n",
    "import pandas as pd\n",
    "import requests,lxml\n",
    "\n",
    "headers = {'User-Agent': 'Mozilla/5.0 (Macintosh; Intel Mac OS X 10_10_1) AppleWebKit/537.36 (KHTML, like Gecko) Chrome/39.0.2171.95 Safari/537.36'}"
   ]
  },
  {
   "cell_type": "code",
   "execution_count": 17,
   "metadata": {},
   "outputs": [
    {
     "data": {
      "text/html": [
       "<div>\n",
       "<style scoped>\n",
       "    .dataframe tbody tr th:only-of-type {\n",
       "        vertical-align: middle;\n",
       "    }\n",
       "\n",
       "    .dataframe tbody tr th {\n",
       "        vertical-align: top;\n",
       "    }\n",
       "\n",
       "    .dataframe thead th {\n",
       "        text-align: right;\n",
       "    }\n",
       "</style>\n",
       "<table border=\"1\" class=\"dataframe\">\n",
       "  <thead>\n",
       "    <tr style=\"text-align: right;\">\n",
       "      <th></th>\n",
       "      <th>product_name</th>\n",
       "      <th>category_name</th>\n",
       "      <th>store_name</th>\n",
       "      <th>store_url</th>\n",
       "      <th>url</th>\n",
       "    </tr>\n",
       "  </thead>\n",
       "  <tbody>\n",
       "    <tr>\n",
       "      <th>0</th>\n",
       "      <td>Wilson Roger Federer Junior Tennis Racquet</td>\n",
       "      <td>Racquets</td>\n",
       "      <td>Walmart</td>\n",
       "      <td>https://www.walmart.com</td>\n",
       "      <td>https://www.walmart.com/ip/Wilson-Rodger-Feder...</td>\n",
       "    </tr>\n",
       "    <tr>\n",
       "      <th>1</th>\n",
       "      <td>Wilson Blade Team Tennis Racquet</td>\n",
       "      <td>Racquets</td>\n",
       "      <td>Walmart</td>\n",
       "      <td>https://www.walmart.com</td>\n",
       "      <td>https://www.walmart.com/ip/Wilson-WRT73861U3-B...</td>\n",
       "    </tr>\n",
       "    <tr>\n",
       "      <th>2</th>\n",
       "      <td>Wilson Burn 100ULS Tennis Racquet</td>\n",
       "      <td>Racquets</td>\n",
       "      <td>Walmart</td>\n",
       "      <td>https://www.walmart.com</td>\n",
       "      <td>https://www.walmart.com/ip/Wilson-Burn-100ULS-...</td>\n",
       "    </tr>\n",
       "    <tr>\n",
       "      <th>3</th>\n",
       "      <td>Wilson Championship Extra-Duty Tennis Balls</td>\n",
       "      <td>Balls</td>\n",
       "      <td>Walmart</td>\n",
       "      <td>https://www.walmart.com</td>\n",
       "      <td>https://www.walmart.com/ip/Wilson-006449-Wilso...</td>\n",
       "    </tr>\n",
       "    <tr>\n",
       "      <th>4</th>\n",
       "      <td>Wilson Team One Tennis Bag</td>\n",
       "      <td>Bags</td>\n",
       "      <td>Walmart</td>\n",
       "      <td>https://www.walmart.com</td>\n",
       "      <td>https://www.walmart.com/ip/Wilson-Team-Tennis-...</td>\n",
       "    </tr>\n",
       "  </tbody>\n",
       "</table>\n",
       "</div>"
      ],
      "text/plain": [
       "                                  product_name category_name store_name  \\\n",
       "0   Wilson Roger Federer Junior Tennis Racquet      Racquets    Walmart   \n",
       "1             Wilson Blade Team Tennis Racquet      Racquets    Walmart   \n",
       "2            Wilson Burn 100ULS Tennis Racquet      Racquets    Walmart   \n",
       "3  Wilson Championship Extra-Duty Tennis Balls         Balls    Walmart   \n",
       "4                   Wilson Team One Tennis Bag          Bags    Walmart   \n",
       "\n",
       "                 store_url                                                url  \n",
       "0  https://www.walmart.com  https://www.walmart.com/ip/Wilson-Rodger-Feder...  \n",
       "1  https://www.walmart.com  https://www.walmart.com/ip/Wilson-WRT73861U3-B...  \n",
       "2  https://www.walmart.com  https://www.walmart.com/ip/Wilson-Burn-100ULS-...  \n",
       "3  https://www.walmart.com  https://www.walmart.com/ip/Wilson-006449-Wilso...  \n",
       "4  https://www.walmart.com  https://www.walmart.com/ip/Wilson-Team-Tennis-...  "
      ]
     },
     "execution_count": 17,
     "metadata": {},
     "output_type": "execute_result"
    }
   ],
   "source": [
    "#read in csv\n",
    "\n",
    "csv_file = \"Resources/url_sheet.csv\"\n",
    "product_csv = pd.read_csv(csv_file)\n",
    "product_csv.head()"
   ]
  },
  {
   "cell_type": "code",
   "execution_count": 23,
   "metadata": {},
   "outputs": [
    {
     "ename": "AttributeError",
     "evalue": "'function' object has no attribute 'store_url'",
     "output_type": "error",
     "traceback": [
      "\u001b[1;31m---------------------------------------------------------------------------\u001b[0m",
      "\u001b[1;31mAttributeError\u001b[0m                            Traceback (most recent call last)",
      "\u001b[1;32m<ipython-input-23-c7dc05b6ae2a>\u001b[0m in \u001b[0;36m<module>\u001b[1;34m\u001b[0m\n\u001b[1;32m----> 1\u001b[1;33m \u001b[0mstore_url\u001b[0m \u001b[1;33m=\u001b[0m \u001b[0mproduct_csv\u001b[0m\u001b[1;33m.\u001b[0m\u001b[0mgroupby\u001b[0m\u001b[1;33m.\u001b[0m\u001b[0mstore_url\u001b[0m\u001b[1;33m.\u001b[0m\u001b[0munique\u001b[0m\u001b[1;33m(\u001b[0m\u001b[1;33m)\u001b[0m\u001b[1;33m\u001b[0m\u001b[1;33m\u001b[0m\u001b[0m\n\u001b[0m\u001b[0;32m      2\u001b[0m \u001b[0mstore_url\u001b[0m\u001b[1;33m\u001b[0m\u001b[1;33m\u001b[0m\u001b[0m\n",
      "\u001b[1;31mAttributeError\u001b[0m: 'function' object has no attribute 'store_url'"
     ]
    }
   ],
   "source": [
    "store_url = "
   ]
  },
  {
   "cell_type": "code",
   "execution_count": 19,
   "metadata": {},
   "outputs": [
    {
     "ename": "NameError",
     "evalue": "name 'store_url' is not defined",
     "output_type": "error",
     "traceback": [
      "\u001b[1;31m---------------------------------------------------------------------------\u001b[0m",
      "\u001b[1;31mNameError\u001b[0m                                 Traceback (most recent call last)",
      "\u001b[1;32m<ipython-input-19-f576426ea473>\u001b[0m in \u001b[0;36m<module>\u001b[1;34m\u001b[0m\n\u001b[0;32m      5\u001b[0m \u001b[0mshipping_details_list\u001b[0m \u001b[1;33m=\u001b[0m \u001b[1;33m[\u001b[0m\u001b[1;33m]\u001b[0m\u001b[1;33m\u001b[0m\u001b[1;33m\u001b[0m\u001b[0m\n\u001b[0;32m      6\u001b[0m \u001b[1;33m\u001b[0m\u001b[0m\n\u001b[1;32m----> 7\u001b[1;33m \u001b[1;32mfor\u001b[0m \u001b[0murl\u001b[0m \u001b[1;32min\u001b[0m \u001b[0mstore_url\u001b[0m\u001b[1;33m:\u001b[0m\u001b[1;33m\u001b[0m\u001b[1;33m\u001b[0m\u001b[0m\n\u001b[0m\u001b[0;32m      8\u001b[0m     \u001b[0mresult\u001b[0m \u001b[1;33m=\u001b[0m \u001b[0mrequests\u001b[0m\u001b[1;33m.\u001b[0m\u001b[0mget\u001b[0m\u001b[1;33m(\u001b[0m\u001b[0murl\u001b[0m\u001b[1;33m)\u001b[0m\u001b[1;33m\u001b[0m\u001b[1;33m\u001b[0m\u001b[0m\n\u001b[0;32m      9\u001b[0m     \u001b[0mc\u001b[0m \u001b[1;33m=\u001b[0m \u001b[0mresult\u001b[0m\u001b[1;33m.\u001b[0m\u001b[0mcontent\u001b[0m\u001b[1;33m\u001b[0m\u001b[1;33m\u001b[0m\u001b[0m\n",
      "\u001b[1;31mNameError\u001b[0m: name 'store_url' is not defined"
     ]
    }
   ],
   "source": [
    "item_names = []\n",
    "price_list = []\n",
    "item_ratings = []\n",
    "item_reviews = []\n",
    "shipping_details_list = []\n",
    "\n",
    "for url in store_url:\n",
    "    result = requests.get(url)\n",
    "    c = result.content\n",
    "    soup = BeautifulSoup(c, 'html')\n",
    "    summary = soup.find('div', {'class':'search-product-result', 'id':'searchProductResult'})\n",
    "    land_list = summary.findAll('li')\n",
    "    \n",
    "    for land in land_list:\n",
    "        \n",
    "        # to get the item name\n",
    "        item_names.append(land.find('a', {'class': 'product-title-link line-clamp line-clamp-2'}).get('aria-label'))\n",
    "        \n",
    "        # to get the item price\n",
    "        price_summary = land.find('span', {'class' : 'price display-inline-block arrange-fit price price-main'})\n",
    "        if price_summary is None:\n",
    "            price_list.append('In-store purchase only')\n",
    "        else:\n",
    "            if price_summary.find('span', {'class': 'price-group'}) is not None:\n",
    "                price_list.append(price_summary.find('span', {'class': 'price-group'}).get('aria-label'))\n",
    "            else:\n",
    "                price_list.append('In-store purchase only')\n",
    "        \n",
    "        # to get the item ratings \n",
    "        item_ratings.append(land.find('span', {'class':'stars-container'}).get('aria-label').split(' ')[2])\n",
    "        \n",
    "        # to get the item reviews\n",
    "        item_reviews.append(land.find('span', {'class':'stars-container'}).get('aria-label').split(' ')[9])"
   ]
  },
  {
   "cell_type": "code",
   "execution_count": null,
   "metadata": {},
   "outputs": [],
   "source": []
  }
 ],
 "metadata": {
  "kernelspec": {
   "display_name": "Python 3",
   "language": "python",
   "name": "python3"
  },
  "language_info": {
   "codemirror_mode": {
    "name": "ipython",
    "version": 3
   },
   "file_extension": ".py",
   "mimetype": "text/x-python",
   "name": "python",
   "nbconvert_exporter": "python",
   "pygments_lexer": "ipython3",
   "version": "3.8.3"
  }
 },
 "nbformat": 4,
 "nbformat_minor": 4
}
