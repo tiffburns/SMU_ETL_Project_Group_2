{
 "cells": [
  {
   "cell_type": "code",
   "execution_count": 1,
   "metadata": {},
   "outputs": [],
   "source": [
    "# import dependences \n",
    "\n",
    "import pandas as pd\n",
    "from sqlalchemy import create_engine, inspect\n",
    "import numpy as np\n",
    "import datetime\n",
    "import psycopg2"
   ]
  },
  {
   "cell_type": "code",
   "execution_count": 2,
   "metadata": {
    "scrolled": true
   },
   "outputs": [
    {
     "data": {
      "text/html": [
       "<div>\n",
       "<style scoped>\n",
       "    .dataframe tbody tr th:only-of-type {\n",
       "        vertical-align: middle;\n",
       "    }\n",
       "\n",
       "    .dataframe tbody tr th {\n",
       "        vertical-align: top;\n",
       "    }\n",
       "\n",
       "    .dataframe thead th {\n",
       "        text-align: right;\n",
       "    }\n",
       "</style>\n",
       "<table border=\"1\" class=\"dataframe\">\n",
       "  <thead>\n",
       "    <tr style=\"text-align: right;\">\n",
       "      <th></th>\n",
       "      <th>product_name</th>\n",
       "      <th>category_name</th>\n",
       "      <th>store_name</th>\n",
       "      <th>store_url</th>\n",
       "      <th>url</th>\n",
       "    </tr>\n",
       "  </thead>\n",
       "  <tbody>\n",
       "    <tr>\n",
       "      <th>0</th>\n",
       "      <td>Wilson Roger Federer Junior Tennis Racquet</td>\n",
       "      <td>Racquets</td>\n",
       "      <td>Wilson</td>\n",
       "      <td>https://www.wilson.com</td>\n",
       "      <td>https://www.wilson.com/en-us/tennis/rackets/ro...</td>\n",
       "    </tr>\n",
       "    <tr>\n",
       "      <th>1</th>\n",
       "      <td>Wilson Blade Team Tennis Racquet</td>\n",
       "      <td>Racquets</td>\n",
       "      <td>Wilson</td>\n",
       "      <td>https://www.wilson.com</td>\n",
       "      <td>https://www.wilson.com/en-us/tennis/rackets/bl...</td>\n",
       "    </tr>\n",
       "    <tr>\n",
       "      <th>2</th>\n",
       "      <td>Wilson Burn 100ULS Tennis Racquet</td>\n",
       "      <td>Racquets</td>\n",
       "      <td>Wilson</td>\n",
       "      <td>https://www.wilson.com</td>\n",
       "      <td>https://www.wilson.com/en-us/tennis/rackets/bu...</td>\n",
       "    </tr>\n",
       "    <tr>\n",
       "      <th>3</th>\n",
       "      <td>Wilson Championship Extra-Duty Tennis Balls</td>\n",
       "      <td>Balls</td>\n",
       "      <td>Wilson</td>\n",
       "      <td>https://www.wilson.com</td>\n",
       "      <td>https://www.wilson.com/en-us/tennis/balls/valu...</td>\n",
       "    </tr>\n",
       "    <tr>\n",
       "      <th>4</th>\n",
       "      <td>Wilson Team One Tennis Bag</td>\n",
       "      <td>Bags</td>\n",
       "      <td>Wilson</td>\n",
       "      <td>https://www.wilson.com</td>\n",
       "      <td>https://www.wilson.com/en-us/tennis/bags/tour/...</td>\n",
       "    </tr>\n",
       "  </tbody>\n",
       "</table>\n",
       "</div>"
      ],
      "text/plain": [
       "                                  product_name category_name store_name  \\\n",
       "0   Wilson Roger Federer Junior Tennis Racquet      Racquets     Wilson   \n",
       "1             Wilson Blade Team Tennis Racquet      Racquets     Wilson   \n",
       "2            Wilson Burn 100ULS Tennis Racquet      Racquets     Wilson   \n",
       "3  Wilson Championship Extra-Duty Tennis Balls         Balls     Wilson   \n",
       "4                   Wilson Team One Tennis Bag          Bags     Wilson   \n",
       "\n",
       "                store_url                                                url  \n",
       "0  https://www.wilson.com  https://www.wilson.com/en-us/tennis/rackets/ro...  \n",
       "1  https://www.wilson.com  https://www.wilson.com/en-us/tennis/rackets/bl...  \n",
       "2  https://www.wilson.com  https://www.wilson.com/en-us/tennis/rackets/bu...  \n",
       "3  https://www.wilson.com  https://www.wilson.com/en-us/tennis/balls/valu...  \n",
       "4  https://www.wilson.com  https://www.wilson.com/en-us/tennis/bags/tour/...  "
      ]
     },
     "execution_count": 2,
     "metadata": {},
     "output_type": "execute_result"
    }
   ],
   "source": [
    "#read in csv\n",
    "\n",
    "csv_file = \"Resources/url_sheet.csv\"\n",
    "category_df = pd.read_csv(csv_file)\n",
    "category_df.head()"
   ]
  },
  {
   "cell_type": "code",
   "execution_count": 3,
   "metadata": {},
   "outputs": [
    {
     "data": {
      "text/plain": [
       "array(['Racquets', 'Balls', 'Bags', 'Accessories', 'Shoes'], dtype=object)"
      ]
     },
     "execution_count": 3,
     "metadata": {},
     "output_type": "execute_result"
    }
   ],
   "source": [
    "#review unique categories\n",
    "category = category_df.category_name.unique()\n",
    "category"
   ]
  },
  {
   "cell_type": "code",
   "execution_count": 4,
   "metadata": {
    "scrolled": true
   },
   "outputs": [
    {
     "data": {
      "text/html": [
       "<div>\n",
       "<style scoped>\n",
       "    .dataframe tbody tr th:only-of-type {\n",
       "        vertical-align: middle;\n",
       "    }\n",
       "\n",
       "    .dataframe tbody tr th {\n",
       "        vertical-align: top;\n",
       "    }\n",
       "\n",
       "    .dataframe thead th {\n",
       "        text-align: right;\n",
       "    }\n",
       "</style>\n",
       "<table border=\"1\" class=\"dataframe\">\n",
       "  <thead>\n",
       "    <tr style=\"text-align: right;\">\n",
       "      <th></th>\n",
       "    </tr>\n",
       "    <tr>\n",
       "      <th>category_name</th>\n",
       "    </tr>\n",
       "  </thead>\n",
       "  <tbody>\n",
       "    <tr>\n",
       "      <th>Racquets</th>\n",
       "    </tr>\n",
       "    <tr>\n",
       "      <th>Balls</th>\n",
       "    </tr>\n",
       "    <tr>\n",
       "      <th>Bags</th>\n",
       "    </tr>\n",
       "    <tr>\n",
       "      <th>Accessories</th>\n",
       "    </tr>\n",
       "    <tr>\n",
       "      <th>Shoes</th>\n",
       "    </tr>\n",
       "  </tbody>\n",
       "</table>\n",
       "</div>"
      ],
      "text/plain": [
       "Empty DataFrame\n",
       "Columns: []\n",
       "Index: [Racquets, Balls, Bags, Accessories, Shoes]"
      ]
     },
     "execution_count": 4,
     "metadata": {},
     "output_type": "execute_result"
    }
   ],
   "source": [
    "#create new category_name dataframe to send to SQL\n",
    "items = pd.DataFrame(category, columns = ['category_name']) \n",
    "items.set_index('category_name', inplace=True)\n",
    "items"
   ]
  },
  {
   "cell_type": "code",
   "execution_count": 5,
   "metadata": {},
   "outputs": [],
   "source": [
    "# Import and establish Base for which classes will be constructed \n",
    "from sqlalchemy.ext.declarative import declarative_base\n",
    "Base = declarative_base()\n",
    "\n",
    "# Import modules to declare columns and column data types\n",
    "from sqlalchemy import Column, Integer, String, Float"
   ]
  },
  {
   "cell_type": "code",
   "execution_count": 6,
   "metadata": {},
   "outputs": [],
   "source": [
    "#declare our variables for pgAdmin connection\n",
    "SQL_USERNAME =\"postgres\"\n",
    "SQL_PASSWORD =\"password\"\n",
    "SQL_IP =\"34.69.163.116\"\n",
    "PORT = 5432\n",
    "DATABASE =\"postgres\""
   ]
  },
  {
   "cell_type": "code",
   "execution_count": 7,
   "metadata": {},
   "outputs": [],
   "source": [
    "#connect and append dataframe to table in SQL\n",
    "connection_string = f\"postgresql+psycopg2://{SQL_USERNAME}:{SQL_PASSWORD}@{SQL_IP}:{PORT}/{DATABASE}\"\n",
    "engine = create_engine(connection_string)\n",
    "\n",
    "items.to_sql('lk_category', engine, if_exists='append')"
   ]
  }
 ],
 "metadata": {
  "kernelspec": {
   "display_name": "Python 3",
   "language": "python",
   "name": "python3"
  },
  "language_info": {
   "codemirror_mode": {
    "name": "ipython",
    "version": 3
   },
   "file_extension": ".py",
   "mimetype": "text/x-python",
   "name": "python",
   "nbconvert_exporter": "python",
   "pygments_lexer": "ipython3",
   "version": "3.8.3"
  }
 },
 "nbformat": 4,
 "nbformat_minor": 4
}
