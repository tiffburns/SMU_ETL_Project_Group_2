{
 "cells": [
  {
   "cell_type": "code",
   "execution_count": 1,
   "metadata": {},
   "outputs": [],
   "source": [
    "# import dependences \n",
    "\n",
    "import pandas as pd\n",
    "from sqlalchemy import create_engine, inspect\n",
    "import numpy as np\n",
    "import datetime\n",
    "import psycopg2"
   ]
  },
  {
   "cell_type": "code",
   "execution_count": 2,
   "metadata": {
    "scrolled": true
   },
   "outputs": [
    {
     "data": {
      "text/html": [
       "<div>\n",
       "<style scoped>\n",
       "    .dataframe tbody tr th:only-of-type {\n",
       "        vertical-align: middle;\n",
       "    }\n",
       "\n",
       "    .dataframe tbody tr th {\n",
       "        vertical-align: top;\n",
       "    }\n",
       "\n",
       "    .dataframe thead th {\n",
       "        text-align: right;\n",
       "    }\n",
       "</style>\n",
       "<table border=\"1\" class=\"dataframe\">\n",
       "  <thead>\n",
       "    <tr style=\"text-align: right;\">\n",
       "      <th></th>\n",
       "      <th>product_name</th>\n",
       "      <th>category_name</th>\n",
       "      <th>store_name</th>\n",
       "      <th>store_url</th>\n",
       "      <th>url</th>\n",
       "    </tr>\n",
       "  </thead>\n",
       "  <tbody>\n",
       "    <tr>\n",
       "      <th>0</th>\n",
       "      <td>Wilson Roger Federer Junior Tennis Racquet</td>\n",
       "      <td>Racquets</td>\n",
       "      <td>Wilson</td>\n",
       "      <td>https://www.wilson.com</td>\n",
       "      <td>https://www.wilson.com/en-us/tennis/rackets/ro...</td>\n",
       "    </tr>\n",
       "    <tr>\n",
       "      <th>1</th>\n",
       "      <td>Wilson Blade Team Tennis Racquet</td>\n",
       "      <td>Racquets</td>\n",
       "      <td>Wilson</td>\n",
       "      <td>https://www.wilson.com</td>\n",
       "      <td>https://www.wilson.com/en-us/tennis/rackets/bl...</td>\n",
       "    </tr>\n",
       "    <tr>\n",
       "      <th>2</th>\n",
       "      <td>Wilson Burn 100ULS Tennis Racquet</td>\n",
       "      <td>Racquets</td>\n",
       "      <td>Wilson</td>\n",
       "      <td>https://www.wilson.com</td>\n",
       "      <td>https://www.wilson.com/en-us/tennis/rackets/bu...</td>\n",
       "    </tr>\n",
       "    <tr>\n",
       "      <th>3</th>\n",
       "      <td>Wilson Championship Extra-Duty Tennis Balls</td>\n",
       "      <td>Balls</td>\n",
       "      <td>Wilson</td>\n",
       "      <td>https://www.wilson.com</td>\n",
       "      <td>https://www.wilson.com/en-us/tennis/balls/valu...</td>\n",
       "    </tr>\n",
       "    <tr>\n",
       "      <th>4</th>\n",
       "      <td>Wilson Team One Tennis Bag</td>\n",
       "      <td>Bags</td>\n",
       "      <td>Wilson</td>\n",
       "      <td>https://www.wilson.com</td>\n",
       "      <td>https://www.wilson.com/en-us/tennis/bags/tour/...</td>\n",
       "    </tr>\n",
       "  </tbody>\n",
       "</table>\n",
       "</div>"
      ],
      "text/plain": [
       "                                  product_name category_name store_name  \\\n",
       "0   Wilson Roger Federer Junior Tennis Racquet      Racquets     Wilson   \n",
       "1             Wilson Blade Team Tennis Racquet      Racquets     Wilson   \n",
       "2            Wilson Burn 100ULS Tennis Racquet      Racquets     Wilson   \n",
       "3  Wilson Championship Extra-Duty Tennis Balls         Balls     Wilson   \n",
       "4                   Wilson Team One Tennis Bag          Bags     Wilson   \n",
       "\n",
       "                store_url                                                url  \n",
       "0  https://www.wilson.com  https://www.wilson.com/en-us/tennis/rackets/ro...  \n",
       "1  https://www.wilson.com  https://www.wilson.com/en-us/tennis/rackets/bl...  \n",
       "2  https://www.wilson.com  https://www.wilson.com/en-us/tennis/rackets/bu...  \n",
       "3  https://www.wilson.com  https://www.wilson.com/en-us/tennis/balls/valu...  \n",
       "4  https://www.wilson.com  https://www.wilson.com/en-us/tennis/bags/tour/...  "
      ]
     },
     "execution_count": 2,
     "metadata": {},
     "output_type": "execute_result"
    }
   ],
   "source": [
    "#read in csv\n",
    "\n",
    "csv_file = \"Resources/url_sheet.csv\"\n",
    "store_df = pd.read_csv(csv_file)\n",
    "store_df.head()"
   ]
  },
  {
   "cell_type": "code",
   "execution_count": 3,
   "metadata": {
    "scrolled": true
   },
   "outputs": [
    {
     "data": {
      "text/html": [
       "<div>\n",
       "<style scoped>\n",
       "    .dataframe tbody tr th:only-of-type {\n",
       "        vertical-align: middle;\n",
       "    }\n",
       "\n",
       "    .dataframe tbody tr th {\n",
       "        vertical-align: top;\n",
       "    }\n",
       "\n",
       "    .dataframe thead th {\n",
       "        text-align: right;\n",
       "    }\n",
       "</style>\n",
       "<table border=\"1\" class=\"dataframe\">\n",
       "  <thead>\n",
       "    <tr style=\"text-align: right;\">\n",
       "      <th></th>\n",
       "      <th>store_name</th>\n",
       "      <th>store_url</th>\n",
       "    </tr>\n",
       "  </thead>\n",
       "  <tbody>\n",
       "    <tr>\n",
       "      <th>0</th>\n",
       "      <td>Academy</td>\n",
       "      <td>https://www.academy.com</td>\n",
       "    </tr>\n",
       "    <tr>\n",
       "      <th>1</th>\n",
       "      <td>Ebay</td>\n",
       "      <td>https://www.ebay.com</td>\n",
       "    </tr>\n",
       "    <tr>\n",
       "      <th>2</th>\n",
       "      <td>Wilson</td>\n",
       "      <td>https://www.wilson.com</td>\n",
       "    </tr>\n",
       "  </tbody>\n",
       "</table>\n",
       "</div>"
      ],
      "text/plain": [
       "  store_name                store_url\n",
       "0    Academy  https://www.academy.com\n",
       "1       Ebay     https://www.ebay.com\n",
       "2     Wilson   https://www.wilson.com"
      ]
     },
     "execution_count": 3,
     "metadata": {},
     "output_type": "execute_result"
    }
   ],
   "source": [
    "#create dataframe by using group by on store_name and store_url\n",
    "lk_store = store_df.groupby(['store_name', 'store_url']).size().reset_index().drop(0,axis=1)\n",
    "lk_store.head()"
   ]
  },
  {
   "cell_type": "code",
   "execution_count": 4,
   "metadata": {},
   "outputs": [],
   "source": [
    "#declare variables to connect to SQL\n",
    "SQL_USERNAME =\"postgres\"\n",
    "SQL_PASSWORD =\"password\"\n",
    "SQL_IP =\"34.69.163.116\"\n",
    "PORT = 5432\n",
    "DATABASE =\"postgres\""
   ]
  },
  {
   "cell_type": "code",
   "execution_count": 5,
   "metadata": {},
   "outputs": [],
   "source": [
    "#create connection to SQL\n",
    "connection_string = f\"postgresql+psycopg2://{SQL_USERNAME}:{SQL_PASSWORD}@{SQL_IP}:{PORT}/{DATABASE}\"\n",
    "engine = create_engine(connection_string)"
   ]
  },
  {
   "cell_type": "code",
   "execution_count": 6,
   "metadata": {},
   "outputs": [],
   "source": [
    "#importing data to SQL\n",
    "lk_store.to_sql('lk_store', engine, if_exists='append', index=False, method='multi')"
   ]
  },
  {
   "cell_type": "code",
   "execution_count": 7,
   "metadata": {},
   "outputs": [
    {
     "data": {
      "text/html": [
       "<div>\n",
       "<style scoped>\n",
       "    .dataframe tbody tr th:only-of-type {\n",
       "        vertical-align: middle;\n",
       "    }\n",
       "\n",
       "    .dataframe tbody tr th {\n",
       "        vertical-align: top;\n",
       "    }\n",
       "\n",
       "    .dataframe thead th {\n",
       "        text-align: right;\n",
       "    }\n",
       "</style>\n",
       "<table border=\"1\" class=\"dataframe\">\n",
       "  <thead>\n",
       "    <tr style=\"text-align: right;\">\n",
       "      <th></th>\n",
       "      <th>id</th>\n",
       "      <th>store_name</th>\n",
       "      <th>store_url</th>\n",
       "      <th>last_updated</th>\n",
       "    </tr>\n",
       "  </thead>\n",
       "  <tbody>\n",
       "    <tr>\n",
       "      <th>0</th>\n",
       "      <td>19</td>\n",
       "      <td>Academy</td>\n",
       "      <td>https://www.academy.com</td>\n",
       "      <td>2020-12-21 17:15:39.841827</td>\n",
       "    </tr>\n",
       "    <tr>\n",
       "      <th>1</th>\n",
       "      <td>20</td>\n",
       "      <td>Ebay</td>\n",
       "      <td>https://www.ebay.com</td>\n",
       "      <td>2020-12-21 17:15:39.841827</td>\n",
       "    </tr>\n",
       "    <tr>\n",
       "      <th>2</th>\n",
       "      <td>21</td>\n",
       "      <td>Wilson</td>\n",
       "      <td>https://www.wilson.com</td>\n",
       "      <td>2020-12-21 17:15:39.841827</td>\n",
       "    </tr>\n",
       "  </tbody>\n",
       "</table>\n",
       "</div>"
      ],
      "text/plain": [
       "   id store_name                store_url               last_updated\n",
       "0  19    Academy  https://www.academy.com 2020-12-21 17:15:39.841827\n",
       "1  20       Ebay     https://www.ebay.com 2020-12-21 17:15:39.841827\n",
       "2  21     Wilson   https://www.wilson.com 2020-12-21 17:15:39.841827"
      ]
     },
     "execution_count": 7,
     "metadata": {},
     "output_type": "execute_result"
    }
   ],
   "source": [
    "#report new dataframe\n",
    "query = \"SELECT * FROM lk_store\"\n",
    "sql_store = pd.read_sql(query, engine)\n",
    "sql_store.head()"
   ]
  }
 ],
 "metadata": {
  "kernelspec": {
   "display_name": "Python 3",
   "language": "python",
   "name": "python3"
  },
  "language_info": {
   "codemirror_mode": {
    "name": "ipython",
    "version": 3
   },
   "file_extension": ".py",
   "mimetype": "text/x-python",
   "name": "python",
   "nbconvert_exporter": "python",
   "pygments_lexer": "ipython3",
   "version": "3.8.3"
  }
 },
 "nbformat": 4,
 "nbformat_minor": 4
}
